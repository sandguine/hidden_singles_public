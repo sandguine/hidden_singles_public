{
 "cells": [
  {
   "cell_type": "code",
   "execution_count": null,
   "metadata": {},
   "outputs": [],
   "source": [
    "%matplotlib inline\n",
    "\n",
    "proj_path = \"/Users/andrew/Desktop/projects/hidden_singles_public/\""
   ]
  },
  {
   "cell_type": "code",
   "execution_count": null,
   "metadata": {},
   "outputs": [],
   "source": [
    "src_path = proj_path + \"python\"\n",
    "\n",
    "import sys\n",
    "sys.path.append(src_path)\n",
    "\n",
    "import pandas as pd\n",
    "from hiddensingles.experiment.data_wrangler import *\n",
    "from hiddensingles.misc import utils\n",
    "\n",
    "import warnings\n",
    "warnings.filterwarnings('ignore')\n",
    "pd.set_option('display.max_rows', 300)"
   ]
  },
  {
   "cell_type": "code",
   "execution_count": null,
   "metadata": {},
   "outputs": [],
   "source": [
    "# Load and wrangle the data\n",
    "\n",
    "raw_data = load_raw_data(proj_path + 'data/raw')\n",
    "\n",
    "dtest_results = diagnostic_test_results(raw_data)\n",
    "survey_responses = get_survey_responses(raw_data)\n",
    "results = get_puzzle_results(raw_data)\n",
    "questionnaire_responses = get_questionnaire_responses(raw_data)\n",
    "response_types = get_response_types(raw_data, results)\n",
    "tutorial_house = get_tutorial_house(results)"
   ]
  },
  {
   "cell_type": "code",
   "execution_count": null,
   "metadata": {},
   "outputs": [],
   "source": [
    "# Combine the dataframes into just subject data and puzzle data\n",
    "\n",
    "subject_data = pd.merge(dtest_results, survey_responses, on='subject_id', how='outer')\n",
    "subject_data = pd.merge(subject_data, questionnaire_responses, on='subject_id', how='outer')\n",
    "subject_data = pd.merge(subject_data, tutorial_house, on='subject_id', how='outer')\n",
    "subject_data['sid_hash'] = utils.short_hash([d['worker_id'] for d in raw_data.values()], 6)\n",
    "puzzle_data = pd.merge(results, response_types, on=['subject_id', 'phase', 'trial'])"
   ]
  },
  {
   "cell_type": "code",
   "execution_count": null,
   "metadata": {},
   "outputs": [],
   "source": [
    "# Save the dataframes as TSV\n",
    "\n",
    "path = proj_path + 'data/processed/'\n",
    "utils.mkdir(path)\n",
    "subject_data.to_csv(path + 'subject_data.tsv', sep='\\t', index=False)\n",
    "puzzle_data.to_csv(path + 'puzzle_data.tsv', sep='\\t', index=False)"
   ]
  },
  {
   "cell_type": "code",
   "execution_count": null,
   "metadata": {},
   "outputs": [],
   "source": []
  }
 ],
 "metadata": {
  "kernelspec": {
   "display_name": "Python 3",
   "language": "python",
   "name": "python3"
  },
  "language_info": {
   "codemirror_mode": {
    "name": "ipython",
    "version": 3
   },
   "file_extension": ".py",
   "mimetype": "text/x-python",
   "name": "python",
   "nbconvert_exporter": "python",
   "pygments_lexer": "ipython3",
   "version": "3.7.6"
  }
 },
 "nbformat": 4,
 "nbformat_minor": 4
}
