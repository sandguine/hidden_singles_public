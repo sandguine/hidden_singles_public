{
 "cells": [
  {
   "cell_type": "code",
   "execution_count": null,
   "metadata": {},
   "outputs": [],
   "source": [
    "proj_path = '/home/ajhnam/projects/hidden_singles_public/'\n",
    "\n",
    "import sys\n",
    "sys.path.append(proj_path + 'python/')\n",
    "\n",
    "import numpy as np\n",
    "from numpy.lib.stride_tricks import sliding_window_view\n",
    "import torch\n",
    "import torch.nn.functional as F\n",
    "import math\n",
    "from torch.distributions import Normal, Dirichlet\n",
    "\n",
    "from hiddensingles.misc import torch_utils as tu\n",
    "from hiddensingles.misc import utils"
   ]
  },
  {
   "cell_type": "code",
   "execution_count": null,
   "metadata": {},
   "outputs": [],
   "source": [
    "device = 0"
   ]
  },
  {
   "cell_type": "code",
   "execution_count": null,
   "metadata": {},
   "outputs": [],
   "source": [
    "# Get 95% HDCI of diffs for bases\n",
    "\n",
    "num_samples = 50000000\n",
    "\n",
    "obs1 = torch.tensor([62, 34, 31, 17, 0, 0, 0, 16, 0], dtype=torch.float32, device=device)\n",
    "obs2 = torch.tensor([4, 4, 2, 11, 13, 6, 2, 33, 9], dtype=torch.float32, device=device)\n",
    "samples1 = Dirichlet(obs1).sample((num_samples, ))\n",
    "samples2 = Dirichlet(obs2).sample((num_samples, ))\n",
    "# samples = F.kl_div(samples1.log(), samples2, reduction='none').mean(-1)\n",
    "samples = (samples1 - samples2).abs().max(-1)[0]\n",
    "utils.kv_print(mean=samples.mean(),\n",
    "               hdci=tu.ehdci(samples),\n",
    "               _digits=4)"
   ]
  },
  {
   "cell_type": "code",
   "execution_count": null,
   "metadata": {},
   "outputs": [],
   "source": [
    "# Get 95% HDCI of diffs for alg-geom\n",
    "\n",
    "num_samples = 50000000\n",
    "\n",
    "obs1 = torch.tensor([49, 19, 16], dtype=torch.float32, device=device)\n",
    "obs2 = torch.tensor([74, 10, 0], dtype=torch.float32, device=device)\n",
    "samples1 = Dirichlet(obs1).sample((num_samples, ))\n",
    "samples2 = Dirichlet(obs2).sample((num_samples, ))\n",
    "# samples = F.kl_div(samples1.log(), samples2, reduction='none').mean(-1)\n",
    "samples = (samples1 - samples2).abs().max(-1)[0]\n",
    "utils.kv_print(mean=samples.mean(),\n",
    "               hdci=tu.ehdci(samples))"
   ]
  },
  {
   "cell_type": "code",
   "execution_count": null,
   "metadata": {},
   "outputs": [],
   "source": []
  }
 ],
 "metadata": {
  "kernelspec": {
   "display_name": "Python 3",
   "language": "python",
   "name": "python3"
  },
  "language_info": {
   "codemirror_mode": {
    "name": "ipython",
    "version": 3
   },
   "file_extension": ".py",
   "mimetype": "text/x-python",
   "name": "python",
   "nbconvert_exporter": "python",
   "pygments_lexer": "ipython3",
   "version": "3.8.5"
  }
 },
 "nbformat": 4,
 "nbformat_minor": 4
}
