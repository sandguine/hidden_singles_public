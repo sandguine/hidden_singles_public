{
 "cells": [
  {
   "cell_type": "code",
   "execution_count": 1,
   "metadata": {},
   "outputs": [],
   "source": [
    "%matplotlib inline\n",
    "\n",
    "proj_path = \"/Users/andrew/Desktop/projects/hidden_singles_public/\""
   ]
  },
  {
   "cell_type": "code",
   "execution_count": 2,
   "metadata": {},
   "outputs": [],
   "source": [
    "import sys\n",
    "sys.path.append(proj_path + 'python')\n",
    "\n",
    "import pandas as pd\n",
    "import numpy as np\n",
    "from tqdm.auto import tqdm\n",
    "\n",
    "from hiddensingles.misc import utils\n",
    "from hiddensingles.misc.draw_sudoku import *\n",
    "from hiddensingles.experiment.data_wrangler import load_raw_data\n",
    "from hiddensingles.sudoku.grid import Grid, GridString, Coordinate\n",
    "\n",
    "import warnings\n",
    "warnings.filterwarnings('ignore')\n",
    "pd.set_option('display.max_rows', 300)"
   ]
  },
  {
   "cell_type": "code",
   "execution_count": 3,
   "metadata": {},
   "outputs": [],
   "source": [
    "def get_coordinates(hidden_single_raw):\n",
    "    coords = {}\n",
    "    for k, v in hidden_single_raw['coordinates'].items():\n",
    "        if type(v) == list:\n",
    "            coords[k] = [Coordinate(c['x'], c['y']) for c in v]\n",
    "        else:\n",
    "            coords[k] = Coordinate(v['x'], v['y'])\n",
    "    return coords\n",
    "\n",
    "def render_hidden_single(hidden_single_raw, goal_entry=None, size=400):\n",
    "    house_type = hidden_single_raw['houseType']\n",
    "    gridstring = hidden_single_raw['gridstrings']['puzzle']\n",
    "    coordinates = get_coordinates(hidden_single_raw)\n",
    "    goal = coordinates['goal']\n",
    "    cell_colors = get_house_highlights(house_type, goal)\n",
    "\n",
    "    # Format highlights as dictionary: {(x, y): (R, G, B)}\n",
    "    column = house_type == \"column\"\n",
    "    cell_colors[goal] = c_bg_green\n",
    "\n",
    "    digit_colors = {}\n",
    "    if goal_entry is not None:\n",
    "        gridstring = GridString.load(hidden_single_raw['gridstrings']['puzzle'])\n",
    "        gridstring.set(coordinates['goal'], goal_entry)\n",
    "        gridstring = str(gridstring)\n",
    "        digit_colors[coordinates['goal']] = (0, 0, 0)\n",
    "    return render_sudoku(gridstring, cell_colors, digit_colors=digit_colors, size=size)"
   ]
  },
  {
   "cell_type": "markdown",
   "metadata": {},
   "source": [
    "# Load Data"
   ]
  },
  {
   "cell_type": "code",
   "execution_count": 4,
   "metadata": {},
   "outputs": [
    {
     "data": {
      "application/vnd.jupyter.widget-view+json": {
       "model_id": "29f27d5461c4478bb8c82fe46467450d",
       "version_major": 2,
       "version_minor": 0
      },
      "text/plain": [
       "HBox(children=(HTML(value=''), FloatProgress(value=0.0, max=2304.0), HTML(value='')))"
      ]
     },
     "metadata": {},
     "output_type": "display_data"
    },
    {
     "name": "stdout",
     "output_type": "stream",
     "text": [
      "\n"
     ]
    }
   ],
   "source": [
    "# Load raw_data and map them using sid_hash\n",
    "raw_data = load_raw_data(proj_path + 'data/raw')\n",
    "sid_hashes = utils.short_hash([d['worker_id'] for d in raw_data.values()], 6)\n",
    "raw_data = {sid_hashes[k]: v for k, v in raw_data.items()}\n",
    "\n",
    "subject_data = pd.read_csv(proj_path + 'data/processed/subject_data.tsv', sep='\\t')\n",
    "experiment = raw_data[sid_hashes[1]]['experimentDetails'] # all figures generated using this person's data"
   ]
  },
  {
   "cell_type": "markdown",
   "metadata": {},
   "source": [
    "# Exercises"
   ]
  },
  {
   "cell_type": "code",
   "execution_count": null,
   "metadata": {},
   "outputs": [],
   "source": [
    "tutorial = experiment['tutorial']\n",
    "tut_coords = get_coordinates(tutorial)\n",
    "goal_coords = tut_coords['goal']\n",
    "\n",
    "contradiction = experiment['contradiction']\n",
    "img = render_sudoku(contradiction)\n",
    "img.save(proj_path + 'figures/sample_puzzles/contradiction.png')"
   ]
  },
  {
   "cell_type": "code",
   "execution_count": null,
   "metadata": {},
   "outputs": [],
   "source": [
    "fullhouse = experiment['fullhouse']\n",
    "highlights = {goal_coords: c_bg_green}\n",
    "img = render_sudoku(fullhouse, highlights)\n",
    "img.save(proj_path + 'figures/sample_puzzles/fullhouse.png')"
   ]
  },
  {
   "cell_type": "markdown",
   "metadata": {},
   "source": [
    "# Tutorial"
   ]
  },
  {
   "cell_type": "code",
   "execution_count": null,
   "metadata": {},
   "outputs": [],
   "source": [
    "# The actual tutorial puzzle\n",
    "\n",
    "gridstring = tutorial['gridstrings']['puzzle']\n",
    "highlights = get_house_highlights(tutorial['houseType'], goal_coords)\n",
    "highlights[goal_coords] = c_bg_green\n",
    "img = render_sudoku(gridstring, highlights)\n",
    "img.save(proj_path + 'figures/sample_puzzles/hs_tutorial_0.png')"
   ]
  },
  {
   "cell_type": "code",
   "execution_count": null,
   "metadata": {},
   "outputs": [],
   "source": [
    "# Tutorial screen 1 & 5\n",
    "\n",
    "grid = GridString.load(tutorial['gridstrings']['puzzle']).to_grid()\n",
    "dist1 = tut_coords['distractorSingle']\n",
    "dist2 = tut_coords['distractorDouble']\n",
    "dist3 = tut_coords['distractorBox']\n",
    "for coord in [dist1, dist2, dist3]:\n",
    "    grid.remove(coord)\n",
    "gridstring = str(grid.to_gridstring())\n",
    "\n",
    "highlights = get_house_highlights(tutorial['houseType'], goal_coords)\n",
    "highlights[goal_coords] = c_bg_green\n",
    "\n",
    "img = render_sudoku(gridstring, highlights)\n",
    "img.save(proj_path + 'figures/sample_puzzles/hs_tutorial_1.png')"
   ]
  },
  {
   "cell_type": "code",
   "execution_count": null,
   "metadata": {},
   "outputs": [],
   "source": [
    "# Tutorial screen 2\n",
    "highlights[tut_coords['emptyDouble']] = c_bg_purple\n",
    "for coord in tut_coords['occupied']:\n",
    "    highlights[coord] = c_bg_red\n",
    "\n",
    "img = render_sudoku(gridstring, highlights)\n",
    "img.save(proj_path + 'figures/sample_puzzles/hs_tutorial_2.png')"
   ]
  },
  {
   "cell_type": "code",
   "execution_count": null,
   "metadata": {},
   "outputs": [],
   "source": [
    "# Tutorial screen 3\n",
    "highlights[tut_coords['emptyDouble']] = c_bg_red\n",
    "for coord in tut_coords['emptyBox']:\n",
    "    highlights[coord] = c_bg_purple\n",
    "\n",
    "img = render_sudoku(gridstring, highlights)\n",
    "img.save(proj_path + 'figures/sample_puzzles/hs_tutorial_3.png')"
   ]
  },
  {
   "cell_type": "code",
   "execution_count": null,
   "metadata": {},
   "outputs": [],
   "source": [
    "# Tutorial screen 4\n",
    "highlights[tut_coords['emptySingle']] = c_bg_purple\n",
    "for coord in tut_coords['emptyBox']:\n",
    "    highlights[coord] = c_bg_red\n",
    "\n",
    "img = render_sudoku(gridstring, highlights)\n",
    "img.save(proj_path + 'figures/sample_puzzles/hs_tutorial_4.png')"
   ]
  },
  {
   "cell_type": "code",
   "execution_count": null,
   "metadata": {},
   "outputs": [],
   "source": [
    "# Tutorial screen 6\n",
    "gridstring = tutorial['gridstrings']['puzzle']\n",
    "highlights = get_house_highlights(tutorial['houseType'], goal_coords)\n",
    "highlights[goal_coords] = c_bg_green\n",
    "for coord in tut_coords['occupied']:\n",
    "    highlights[coord] = c_bg_red\n",
    "highlights[tut_coords['distractorDouble']] = c_bg_purple\n",
    "\n",
    "img = render_sudoku(gridstring, highlights)\n",
    "img.save(proj_path + 'figures/sample_puzzles/hs_tutorial_6.png')"
   ]
  },
  {
   "cell_type": "code",
   "execution_count": null,
   "metadata": {},
   "outputs": [],
   "source": [
    "# Tutorial screen 7\n",
    "highlights[tut_coords['distractorDouble']] = None\n",
    "highlights[tut_coords['emptyDouble']] = c_bg_red\n",
    "highlights[tut_coords['distractorBox']] = c_bg_purple\n",
    "\n",
    "img = render_sudoku(gridstring, highlights)\n",
    "img.save(proj_path + 'figures/sample_puzzles/hs_tutorial_7.png')"
   ]
  },
  {
   "cell_type": "code",
   "execution_count": null,
   "metadata": {},
   "outputs": [],
   "source": [
    "# Tutorial screen 8\n",
    "highlights[tut_coords['distractorBox']] = None\n",
    "for coord in tut_coords['emptyBox']:\n",
    "    highlights[coord] = c_bg_red\n",
    "\n",
    "img = render_sudoku(gridstring, highlights)\n",
    "img.save(proj_path + 'figures/sample_puzzles/hs_tutorial_8.png')"
   ]
  },
  {
   "cell_type": "code",
   "execution_count": null,
   "metadata": {},
   "outputs": [],
   "source": [
    "# Tutorial screen 9a\n",
    "grid = GridString.load(tutorial['gridstrings']['puzzle']).to_grid()\n",
    "highlights = get_house_highlights(tutorial['houseType'], goal_coords)\n",
    "highlights[goal_coords] = c_bg_green\n",
    "highlights[tut_coords['targetSingle']] = c_bg_orange\n",
    "highlights[tut_coords['targetDouble']] = c_bg_orange\n",
    "highlights[tut_coords['emptyDouble']] = c_bg_orange\n",
    "highlights[tut_coords['emptySingle']] = c_bg_orange\n",
    "highlights[tut_coords['targetBox']] = c_bg_purple\n",
    "for coord in tut_coords['emptyBox']:\n",
    "    highlights[coord] = c_bg_purple\n",
    "for coord in tut_coords['occupied']:\n",
    "    highlights[coord] = c_bg_red\n",
    "\n",
    "img = render_sudoku(gridstring, highlights)\n",
    "img.save(proj_path + 'figures/sample_puzzles/hs_tutorial_9a.png')"
   ]
  },
  {
   "cell_type": "code",
   "execution_count": null,
   "metadata": {},
   "outputs": [],
   "source": [
    "# Tutorial screen 9b\n",
    "grid = GridString.load(tutorial['gridstrings']['puzzle']).to_grid()\n",
    "highlights = get_house_highlights(tutorial['houseType'], goal_coords)\n",
    "highlights[goal_coords] = c_bg_green\n",
    "highlights[tut_coords['distractorSingle']] = c_bg_orange\n",
    "highlights[tut_coords['distractorDouble']] = c_bg_orange\n",
    "highlights[tut_coords['emptyDouble']] = c_bg_orange\n",
    "highlights[tut_coords['distractorBox']] = c_bg_purple\n",
    "for coord in tut_coords['emptyBox']:\n",
    "    highlights[coord] = c_bg_purple\n",
    "for coord in tut_coords['occupied']:\n",
    "    highlights[coord] = c_bg_red\n",
    "\n",
    "img = render_sudoku(gridstring, highlights)\n",
    "img.save(proj_path + 'figures/sample_puzzles/hs_tutorial_9b.png')"
   ]
  },
  {
   "cell_type": "markdown",
   "metadata": {},
   "source": [
    "# Practice Phase"
   ]
  },
  {
   "cell_type": "code",
   "execution_count": null,
   "metadata": {},
   "outputs": [],
   "source": [
    "# Sample puzzles\n",
    "\n",
    "for i in range(4):\n",
    "    img = render_hidden_single(experiment['phase1'][i])\n",
    "    img.save(proj_path + 'figures/sample_puzzles/p1_puzzle_{}.png'.format(i+1))"
   ]
  },
  {
   "cell_type": "code",
   "execution_count": null,
   "metadata": {},
   "outputs": [],
   "source": [
    "# In-House feedback\n",
    "\n",
    "hidden_single = experiment['phase1'][0]\n",
    "gridstring = hidden_single['gridstrings']['puzzle']\n",
    "coords = get_coordinates(hidden_single)\n",
    "goal = coords['goal']\n",
    "highlights = get_house_highlights(hidden_single['houseType'], goal)\n",
    "highlights[goal] = c_bg_green\n",
    "highlights[coords['occupied'][0]] = c_bg_red\n",
    "img = render_sudoku(gridstring, highlights)\n",
    "img.save(proj_path + 'figures/sample_puzzles/p1_feedback_inhouse.png')"
   ]
  },
  {
   "cell_type": "code",
   "execution_count": null,
   "metadata": {},
   "outputs": [],
   "source": [
    "# Absent Feedback\n",
    "\n",
    "highlights = get_house_highlights(hidden_single['houseType'], goal)\n",
    "highlights[goal] = c_bg_green\n",
    "for coord in coords['occupied']:\n",
    "    highlights[coord] = c_bg_red\n",
    "img = render_sudoku(gridstring, highlights)\n",
    "img.save(proj_path + 'figures/sample_puzzles/p1_feedback_absent.png')"
   ]
  },
  {
   "cell_type": "code",
   "execution_count": null,
   "metadata": {},
   "outputs": [],
   "source": [
    "# Distractor Feedback\n",
    "\n",
    "highlights = get_house_highlights(hidden_single['houseType'], goal)\n",
    "highlights = {k: c_bg_red for k in highlights}\n",
    "highlights[goal] = c_bg_green\n",
    "highlights[coords['emptySingle']] = c_bg_blue\n",
    "img = render_sudoku(gridstring, highlights)\n",
    "img.save(proj_path + 'figures/sample_puzzles/p1_feedback_distractor.png')"
   ]
  },
  {
   "cell_type": "code",
   "execution_count": null,
   "metadata": {},
   "outputs": [],
   "source": [
    "# Target feedback\n",
    "\n",
    "highlights = get_house_highlights(hidden_single['houseType'], goal)\n",
    "highlights[goal] = c_bg_green\n",
    "for coord in coords['occupied']:\n",
    "    highlights[coord] = c_bg_red\n",
    "for coord in coords['emptyBox']:\n",
    "    highlights[coord] = c_bg_purple\n",
    "highlights[coords['emptySingle']] = c_bg_orange\n",
    "highlights[coords['emptyDouble']] = c_bg_orange\n",
    "\n",
    "highlights[coords['targetBox']] = c_bg_purple\n",
    "highlights[coords['targetSingle']] = c_bg_orange\n",
    "highlights[coords['targetDouble']] = c_bg_orange\n",
    "\n",
    "img = render_sudoku(gridstring, highlights)\n",
    "img.save(proj_path + 'figures/sample_puzzles/p1_feedback_target.png')"
   ]
  },
  {
   "cell_type": "markdown",
   "metadata": {},
   "source": [
    "# Test Phase"
   ]
  },
  {
   "cell_type": "code",
   "execution_count": null,
   "metadata": {},
   "outputs": [],
   "source": [
    "# Test Phase\n",
    "\n",
    "for i in range(16):\n",
    "    hidden_single = experiment['phase2'][i]\n",
    "    condition = hidden_single['condition']\n",
    "    \n",
    "    title = []\n",
    "    if condition['houseType']:\n",
    "        title.append('ht')\n",
    "    if condition['houseIndex']:\n",
    "        title.append('hi')\n",
    "    if condition['cellIndex']:\n",
    "        title.append('ci')\n",
    "    if condition['digitSet']:\n",
    "        title.append('ds')\n",
    "    title = ''.join(title) if title else 'control'\n",
    "    \n",
    "    img = render_hidden_single(hidden_single)\n",
    "\n",
    "    img.save(proj_path + 'figures/sample_puzzles/p2_puzzle_{}.png'.format(title))"
   ]
  },
  {
   "cell_type": "markdown",
   "metadata": {},
   "source": [
    "# Questionnaire"
   ]
  },
  {
   "cell_type": "code",
   "execution_count": null,
   "metadata": {},
   "outputs": [],
   "source": [
    "utils.mkdir(proj_path + 'figures/questionnaire_puzzles/')\n",
    "for record in tqdm(subject_data[~subject_data.excluded].to_records()):\n",
    "    subject_id = record.subject_id\n",
    "    sid_hash = record.sid_hash\n",
    "    goal_entry = record.q_puzzle_digit\n",
    "    hidden_single = raw_data[sid_hash]['experimentDetails']['questionnaire']\n",
    "    img = render_hidden_single(hidden_single, goal_entry=goal_entry)\n",
    "    title = 'Questionnaire (Subject {})'.format(subject_id)\n",
    "    img = img_add_title(img, title)\n",
    "    img.save(proj_path + 'figures/questionnaire_puzzles/{}.png'.format(subject_id))"
   ]
  },
  {
   "cell_type": "markdown",
   "metadata": {},
   "source": [
    "# Questionnaire Rater Figures"
   ]
  },
  {
   "cell_type": "code",
   "execution_count": 38,
   "metadata": {},
   "outputs": [],
   "source": [
    "# Example puzzle for instructions\n",
    "\n",
    "grid = Grid(3, 3)\n",
    "grid.write(Coordinate(4, 0), 2)\n",
    "grid.write(Coordinate(4, 1), 4)\n",
    "grid.write(Coordinate(4, 5), 8)\n",
    "grid.write(Coordinate(7, 4), 3)\n",
    "grid.write(Coordinate(5, 7), 3)\n",
    "grid.write(Coordinate(8, 2), 3)\n",
    "grid.write(Coordinate(1, 1), 6)\n",
    "grid.write(Coordinate(2, 4), 6)\n",
    "grid.write(Coordinate(5, 8), 6)\n",
    "gridstring = str(grid.to_gridstring())\n",
    "\n",
    "hidden_single = {\n",
    "    'houseType': 'row',\n",
    "    'gridstrings': {'puzzle': gridstring},\n",
    "    'coordinates': {'goal': {'x': 4, 'y': 3}}\n",
    "}\n",
    "img = render_hidden_single(hidden_single, goal_entry=3)\n",
    "img.save(proj_path + 'figures/q_rater/sample_puzzle.png')"
   ]
  },
  {
   "cell_type": "code",
   "execution_count": null,
   "metadata": {},
   "outputs": [],
   "source": [
    "def render_questionnaire(qrater_filename, pdf_filename):\n",
    "    df = pd.read_csv(qrater_filename, sep='\\t')\n",
    "\n",
    "    imgs = []\n",
    "    for record in tqdm(df.to_records()):\n",
    "        subject_id = record.subject_id\n",
    "        sid_hash = record.sid_hash\n",
    "        goal_entry = record.q_puzzle_digit\n",
    "        hidden_single = raw_data[sid_hash]['experimentDetails']['questionnaire']\n",
    "        img = render_hidden_single(hidden_single, goal_entry=goal_entry)\n",
    "        title = 'Questionnaire (Subject {})'.format(subject_id)\n",
    "        img = img_add_title(img, title)\n",
    "        imgs.append(img)\n",
    "\n",
    "    imgs[0].save(pdf_filename, save_all = True, quality=100, append_images = imgs[1:])"
   ]
  },
  {
   "cell_type": "code",
   "execution_count": null,
   "metadata": {},
   "outputs": [],
   "source": [
    "render_questionnaire(proj_path + 'data/processed/qrater.tsv',\n",
    "                     proj_path + 'figures/q_rater/puzzles.pdf')\n",
    "render_questionnaire(proj_path + 'data/processed/qrater_pilot.tsv',\n",
    "                     proj_path + 'figures/q_rater/pilot_puzzles.pdf')"
   ]
  },
  {
   "cell_type": "code",
   "execution_count": null,
   "metadata": {},
   "outputs": [],
   "source": []
  }
 ],
 "metadata": {
  "kernelspec": {
   "display_name": "Python 3",
   "language": "python",
   "name": "python3"
  },
  "language_info": {
   "codemirror_mode": {
    "name": "ipython",
    "version": 3
   },
   "file_extension": ".py",
   "mimetype": "text/x-python",
   "name": "python",
   "nbconvert_exporter": "python",
   "pygments_lexer": "ipython3",
   "version": "3.7.6"
  }
 },
 "nbformat": 4,
 "nbformat_minor": 4
}
