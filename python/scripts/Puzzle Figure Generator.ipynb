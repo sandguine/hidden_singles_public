{
 "cells": [
  {
   "cell_type": "code",
   "execution_count": null,
   "metadata": {},
   "outputs": [],
   "source": [
    "%matplotlib inline\n",
    "\n",
    "proj_path = \"/Users/andrew/Desktop/projects/hidden_singles_public/\""
   ]
  },
  {
   "cell_type": "code",
   "execution_count": null,
   "metadata": {},
   "outputs": [],
   "source": [
    "import sys\n",
    "sys.path.append(proj_path + 'python')\n",
    "\n",
    "import json\n",
    "import pandas as pd\n",
    "import os\n",
    "import glob\n",
    "import numpy as np\n",
    "import matplotlib.pyplot as plt\n",
    "from datetime import datetime\n",
    "from PIL import Image, ImageDraw, ImageFont\n",
    "from tqdm.auto import tqdm\n",
    "\n",
    "from hiddensingles.misc import utils\n",
    "from hiddensingles.sudoku.grid import Grid, GridString,Coordinate\n",
    "\n",
    "import warnings\n",
    "warnings.filterwarnings('ignore')\n",
    "pd.set_option('display.max_rows', 300)"
   ]
  },
  {
   "cell_type": "code",
   "execution_count": null,
   "metadata": {},
   "outputs": [],
   "source": [
    "c_bg_green = (1, 255, 112)\n",
    "c_bg_blue = (127, 219, 255)\n",
    "c_bg_purple = (218, 112, 214)\n",
    "c_bg_red = (255, 69, 0)\n",
    "c_bg_orange = (255, 165, 0)\n",
    "c_digit_blue = (0, 0, 255)\n",
    "line_house_width = 4\n",
    "line_cell_width = 1"
   ]
  },
  {
   "cell_type": "code",
   "execution_count": null,
   "metadata": {},
   "outputs": [],
   "source": [
    "# Same code as from Data Wrangler\n",
    "\n",
    "subject_ids = {}\n",
    "def load_raw_data(dirname, subject_ids):\n",
    "    \"\"\"\n",
    "    Parses raw data into a dictionary\n",
    "    return:\n",
    "        a dictionary of (subject_id, data)\n",
    "        list of subject_ids whose data could not be parsed\n",
    "    \"\"\"\n",
    "    raw_data = {}\n",
    "    failures = []\n",
    "    for filename in tqdm(sorted(glob.glob(dirname + '/*'))):\n",
    "        try:\n",
    "            with open(filename) as f:\n",
    "                data = json.load(f)\n",
    "            worker_id = os.path.basename(filename)\n",
    "            if completed_hit(data):\n",
    "                if worker_id not in subject_ids:\n",
    "                    subject_ids[worker_id] = len(subject_ids)\n",
    "                raw_data[subject_ids[worker_id]] = data\n",
    "                data['worker_id'] = worker_id\n",
    "        except:\n",
    "            failures.append(filename)\n",
    "    if failures:\n",
    "        worker_ids = ['\"{}\"'.format(os.path.basename(f)) for f in failures]\n",
    "        worker_ids = ', '.join(worker_ids)\n",
    "        print(\"Failed to open {} files: {}\".format(len(failures), worker_ids))\n",
    "    return raw_data\n",
    "\n",
    "def parse_timestring(s):\n",
    "    return datetime.strptime(s, '%Y%m%d_%H%M%S%f_%Z')\n",
    "\n",
    "def completed_hit(data):\n",
    "    return bool([d for d in data['data'] if d['screen'] == 'MathBackgroundSurvey'])"
   ]
  },
  {
   "cell_type": "code",
   "execution_count": null,
   "metadata": {},
   "outputs": [],
   "source": [
    "def get_coordinates(hidden_single_raw):\n",
    "    coords = {}\n",
    "    for k, v in hidden_single_raw['coordinates'].items():\n",
    "        if type(v) == list:\n",
    "            coords[k] = [Coordinate(c['x'], c['y']) for c in v]\n",
    "        else:\n",
    "            coords[k] = Coordinate(v['x'], v['y'])\n",
    "    return coords"
   ]
  },
  {
   "cell_type": "code",
   "execution_count": null,
   "metadata": {},
   "outputs": [],
   "source": [
    "def img_concat_h(im1, im2):\n",
    "    dst = Image.new('RGB', (im1.width + im2.width, im1.height))\n",
    "    dst.paste(im1, (0, 0))\n",
    "    dst.paste(im2, (im1.width, 0))\n",
    "    return dst\n",
    "\n",
    "def img_concat_v(im1, im2):\n",
    "    dst = Image.new('RGB', (im1.width, im1.height + im2.height))\n",
    "    dst.paste(im1, (0, 0))\n",
    "    dst.paste(im2, (0, im1.height))\n",
    "    return dst\n",
    "\n",
    "def img_add_title(img, title, bg_color=(255, 255, 255)):\n",
    "    img_title = Image.new('RGB', (img.width, int(.12*img.height)), color = bg_color)\n",
    "    draw = ImageDraw.Draw(img_title)\n",
    "    fnt = ImageFont.truetype('/Library/Fonts/Arial.ttf', int(.65*img_title.height))\n",
    "    text_w, text_h = draw.textsize(title, font=fnt) \n",
    "    x = int((img_title.width - text_w))/2\n",
    "    y = int((img_title.height - text_h))/2\n",
    "    draw.text((x, y), title, font=fnt, fill='black')\n",
    "    return img_concat_v(img_title, img)\n",
    "\n",
    "def get_house_highlights(house_type, goal):\n",
    "    highlights = {Coordinate(i, goal.y) if house_type == 'column' else Coordinate(goal.x, i): c_bg_blue for i in range(9)}\n",
    "    return highlights\n",
    "\n",
    "def render_sudoku(gridstring, highlights={}, size=400):\n",
    "    numbers = GridString.load(gridstring).get_hints()\n",
    "    \n",
    "    # Rendering\n",
    "    img = Image.new('RGB', (size, size), color = (255, 255, 255))\n",
    "\n",
    "    img_max = size-2\n",
    "    house_width = int(img_max/3)\n",
    "    cell_width = int(house_width/3)\n",
    "\n",
    "    fnt = ImageFont.truetype('/Library/Fonts/Arial.ttf', int(.1*size))\n",
    "    draw = ImageDraw.Draw(img)\n",
    "\n",
    "    # Add highlighted cells\n",
    "    for coord, color in highlights.items():\n",
    "        if color is not None:\n",
    "            x, y = coord.x, coord.y\n",
    "            draw.rectangle((y*cell_width,\n",
    "                            x*cell_width,\n",
    "                            (y+1)*cell_width,\n",
    "                            (x+1)*cell_width), fill=color)\n",
    "\n",
    "    # Create exterior borders\n",
    "    draw.line((0, 0) + (0, img_max), fill=0, width=line_house_width)\n",
    "    draw.line((0, 0) + (img_max, 0), fill=0, width=line_house_width)\n",
    "    draw.line((img_max, 0) + (img_max, img_max), fill=0, width=line_house_width)\n",
    "    draw.line((0, img_max) + (img_max, img_max), fill=0, width=line_house_width)\n",
    "\n",
    "    # Create house borders\n",
    "    draw.line((0, house_width) + (img_max, house_width), fill=0, width=line_house_width)\n",
    "    draw.line((0, 2*house_width) + (img_max, 2*house_width), fill=0, width=line_house_width)\n",
    "    draw.line((house_width, 0) + (house_width, img_max), fill=0, width=line_house_width)\n",
    "    draw.line((2*house_width, 0) + (2*house_width, img_max), fill=0, width=line_house_width)\n",
    "\n",
    "    # Create cell borders\n",
    "    for i in range(9):\n",
    "        draw.line((0, i*cell_width) + (img_max, i*cell_width), fill=0, width=line_cell_width)\n",
    "        draw.line((i*cell_width, 0) + (i*cell_width, img_max), fill=0, width=line_cell_width)\n",
    "\n",
    "    # Add numerals\n",
    "    for coord, num in numbers.items():\n",
    "        x, y = coord.x, coord.y\n",
    "        draw.text(((y+.27)*cell_width,\n",
    "                   (x+.025)*cell_width), str(num),\n",
    "                   font=fnt, fill=c_digit_blue)\n",
    "        \n",
    "    return img\n",
    "\n",
    "def render_hidden_single(hidden_single_raw, size=400):\n",
    "    house_type = hidden_single_raw['houseType']\n",
    "    gridstring = hidden_single_raw['gridstrings']['puzzle']\n",
    "    coordinates = get_coordinates(hidden_single_raw)\n",
    "    goal = coordinates['goal']\n",
    "    highlights = get_house_highlights(house_type, goal)\n",
    "    \n",
    "    # Format highlights as dictionary: {(x, y): (R, G, B)}\n",
    "    column = house_type == \"column\"\n",
    "    highlights[goal] = c_bg_green\n",
    "    \n",
    "    return render_sudoku(gridstring, highlights, size)\n",
    "    \n"
   ]
  },
  {
   "cell_type": "markdown",
   "metadata": {},
   "source": [
    "# Load Data"
   ]
  },
  {
   "cell_type": "code",
   "execution_count": null,
   "metadata": {},
   "outputs": [],
   "source": [
    "# Load raw_data and map them using sid_hash\n",
    "raw_data = load_raw_data(proj_path + 'data/raw', subject_ids)\n",
    "sid_hashes = utils.short_hash([d['worker_id'] for d in raw_data.values()], 6)\n",
    "raw_data = {sid_hashes[k]: v for k, v in raw_data.items()}\n",
    "\n",
    "subject_data = pd.read_csv(proj_path + 'data/processed/subject_data.tsv', sep='\\t')\n",
    "experiment = raw_data[sid_hashes[1]]['experimentDetails'] # all figures generated using this person's data"
   ]
  },
  {
   "cell_type": "markdown",
   "metadata": {},
   "source": [
    "# Exercises"
   ]
  },
  {
   "cell_type": "code",
   "execution_count": null,
   "metadata": {},
   "outputs": [],
   "source": [
    "tutorial = experiment['tutorial']\n",
    "tut_coords = get_coordinates(tutorial)\n",
    "goal_coords = tut_coords['goal']\n",
    "\n",
    "contradiction = experiment['contradiction']\n",
    "img = render_sudoku(contradiction)\n",
    "img.save(proj_path + 'figures/sample_puzzles/contradiction.png')"
   ]
  },
  {
   "cell_type": "code",
   "execution_count": null,
   "metadata": {},
   "outputs": [],
   "source": [
    "fullhouse = experiment['fullhouse']\n",
    "highlights = {goal_coords: c_bg_green}\n",
    "img = render_sudoku(fullhouse, highlights)\n",
    "img.save(proj_path + 'figures/sample_puzzles/fullhouse.png')"
   ]
  },
  {
   "cell_type": "markdown",
   "metadata": {},
   "source": [
    "# Tutorial"
   ]
  },
  {
   "cell_type": "code",
   "execution_count": null,
   "metadata": {},
   "outputs": [],
   "source": [
    "# The actual tutorial puzzle\n",
    "\n",
    "gridstring = tutorial['gridstrings']['puzzle']\n",
    "highlights = get_house_highlights(tutorial['houseType'], goal_coords)\n",
    "highlights[goal_coords] = c_bg_green\n",
    "img = render_sudoku(gridstring, highlights)\n",
    "img.save(proj_path + 'figures/sample_puzzles/hs_tutorial_0.png')"
   ]
  },
  {
   "cell_type": "code",
   "execution_count": null,
   "metadata": {},
   "outputs": [],
   "source": [
    "# Tutorial screen 1 & 5\n",
    "\n",
    "grid = GridString.load(tutorial['gridstrings']['puzzle']).to_grid()\n",
    "dist1 = tut_coords['distractorSingle']\n",
    "dist2 = tut_coords['distractorDouble']\n",
    "dist3 = tut_coords['distractorBox']\n",
    "for coord in [dist1, dist2, dist3]:\n",
    "    grid.remove(coord)\n",
    "gridstring = str(grid.to_gridstring())\n",
    "\n",
    "highlights = get_house_highlights(tutorial['houseType'], goal_coords)\n",
    "highlights[goal_coords] = c_bg_green\n",
    "\n",
    "img = render_sudoku(gridstring, highlights)\n",
    "img.save(proj_path + 'figures/sample_puzzles/hs_tutorial_1.png')"
   ]
  },
  {
   "cell_type": "code",
   "execution_count": null,
   "metadata": {},
   "outputs": [],
   "source": [
    "# Tutorial screen 2\n",
    "highlights[tut_coords['emptyDouble']] = c_bg_purple\n",
    "for coord in tut_coords['occupied']:\n",
    "    highlights[coord] = c_bg_red\n",
    "\n",
    "img = render_sudoku(gridstring, highlights)\n",
    "img.save(proj_path + 'figures/sample_puzzles/hs_tutorial_2.png')"
   ]
  },
  {
   "cell_type": "code",
   "execution_count": null,
   "metadata": {},
   "outputs": [],
   "source": [
    "# Tutorial screen 3\n",
    "highlights[tut_coords['emptyDouble']] = c_bg_red\n",
    "for coord in tut_coords['emptyBox']:\n",
    "    highlights[coord] = c_bg_purple\n",
    "\n",
    "img = render_sudoku(gridstring, highlights)\n",
    "img.save(proj_path + 'figures/sample_puzzles/hs_tutorial_3.png')"
   ]
  },
  {
   "cell_type": "code",
   "execution_count": null,
   "metadata": {},
   "outputs": [],
   "source": [
    "# Tutorial screen 4\n",
    "highlights[tut_coords['emptySingle']] = c_bg_purple\n",
    "for coord in tut_coords['emptyBox']:\n",
    "    highlights[coord] = c_bg_red\n",
    "\n",
    "img = render_sudoku(gridstring, highlights)\n",
    "img.save(proj_path + 'figures/sample_puzzles/hs_tutorial_4.png')"
   ]
  },
  {
   "cell_type": "code",
   "execution_count": null,
   "metadata": {},
   "outputs": [],
   "source": [
    "# Tutorial screen 6\n",
    "gridstring = tutorial['gridstrings']['puzzle']\n",
    "highlights = get_house_highlights(tutorial['houseType'], goal_coords)\n",
    "highlights[goal_coords] = c_bg_green\n",
    "for coord in tut_coords['occupied']:\n",
    "    highlights[coord] = c_bg_red\n",
    "highlights[tut_coords['distractorDouble']] = c_bg_purple\n",
    "\n",
    "img = render_sudoku(gridstring, highlights)\n",
    "img.save(proj_path + 'figures/sample_puzzles/hs_tutorial_6.png')"
   ]
  },
  {
   "cell_type": "code",
   "execution_count": null,
   "metadata": {},
   "outputs": [],
   "source": [
    "# Tutorial screen 7\n",
    "highlights[tut_coords['distractorDouble']] = None\n",
    "highlights[tut_coords['emptyDouble']] = c_bg_red\n",
    "highlights[tut_coords['distractorBox']] = c_bg_purple\n",
    "\n",
    "img = render_sudoku(gridstring, highlights)\n",
    "img.save(proj_path + 'figures/sample_puzzles/hs_tutorial_7.png')"
   ]
  },
  {
   "cell_type": "code",
   "execution_count": null,
   "metadata": {},
   "outputs": [],
   "source": [
    "# Tutorial screen 8\n",
    "highlights[tut_coords['distractorBox']] = None\n",
    "for coord in tut_coords['emptyBox']:\n",
    "    highlights[coord] = c_bg_red\n",
    "\n",
    "img = render_sudoku(gridstring, highlights)\n",
    "img.save(proj_path + 'figures/sample_puzzles/hs_tutorial_8.png')"
   ]
  },
  {
   "cell_type": "code",
   "execution_count": null,
   "metadata": {},
   "outputs": [],
   "source": [
    "# Tutorial screen 9a\n",
    "grid = GridString.load(tutorial['gridstrings']['puzzle']).to_grid()\n",
    "highlights = get_house_highlights(tutorial['houseType'], goal_coords)\n",
    "highlights[goal_coords] = c_bg_green\n",
    "highlights[tut_coords['targetSingle']] = c_bg_orange\n",
    "highlights[tut_coords['targetDouble']] = c_bg_orange\n",
    "highlights[tut_coords['emptyDouble']] = c_bg_orange\n",
    "highlights[tut_coords['emptySingle']] = c_bg_orange\n",
    "highlights[tut_coords['targetBox']] = c_bg_purple\n",
    "for coord in tut_coords['emptyBox']:\n",
    "    highlights[coord] = c_bg_purple\n",
    "for coord in tut_coords['occupied']:\n",
    "    highlights[coord] = c_bg_red\n",
    "\n",
    "img = render_sudoku(gridstring, highlights)\n",
    "img.save(proj_path + 'figures/sample_puzzles/hs_tutorial_9a.png')"
   ]
  },
  {
   "cell_type": "code",
   "execution_count": null,
   "metadata": {},
   "outputs": [],
   "source": [
    "# Tutorial screen 9b\n",
    "grid = GridString.load(tutorial['gridstrings']['puzzle']).to_grid()\n",
    "highlights = get_house_highlights(tutorial['houseType'], goal_coords)\n",
    "highlights[goal_coords] = c_bg_green\n",
    "highlights[tut_coords['distractorSingle']] = c_bg_orange\n",
    "highlights[tut_coords['distractorDouble']] = c_bg_orange\n",
    "highlights[tut_coords['emptyDouble']] = c_bg_orange\n",
    "highlights[tut_coords['distractorBox']] = c_bg_purple\n",
    "for coord in tut_coords['emptyBox']:\n",
    "    highlights[coord] = c_bg_purple\n",
    "for coord in tut_coords['occupied']:\n",
    "    highlights[coord] = c_bg_red\n",
    "\n",
    "img = render_sudoku(gridstring, highlights)\n",
    "img.save(proj_path + 'figures/sample_puzzles/hs_tutorial_9b.png')"
   ]
  },
  {
   "cell_type": "markdown",
   "metadata": {},
   "source": [
    "# Practice Phase"
   ]
  },
  {
   "cell_type": "code",
   "execution_count": null,
   "metadata": {},
   "outputs": [],
   "source": [
    "# Sample puzzles\n",
    "\n",
    "for i in range(4):\n",
    "    img = render_hidden_single(experiment['phase1'][i])\n",
    "    img.save(proj_path + 'figures/sample_puzzles/p1_puzzle_{}.png'.format(i+1))"
   ]
  },
  {
   "cell_type": "code",
   "execution_count": null,
   "metadata": {},
   "outputs": [],
   "source": [
    "# In-House feedback\n",
    "\n",
    "hidden_single = experiment['phase1'][0]\n",
    "gridstring = hidden_single['gridstrings']['puzzle']\n",
    "coords = get_coordinates(hidden_single)\n",
    "goal = coords['goal']\n",
    "highlights = get_house_highlights(hidden_single['houseType'], goal)\n",
    "highlights[goal] = c_bg_green\n",
    "highlights[coords['occupied'][0]] = c_bg_red\n",
    "img = render_sudoku(gridstring, highlights)\n",
    "img.save(proj_path + 'figures/sample_puzzles/p1_feedback_inhouse.png')"
   ]
  },
  {
   "cell_type": "code",
   "execution_count": null,
   "metadata": {},
   "outputs": [],
   "source": [
    "# Absent Feedback\n",
    "\n",
    "highlights = get_house_highlights(hidden_single['houseType'], goal)\n",
    "highlights[goal] = c_bg_green\n",
    "for coord in coords['occupied']:\n",
    "    highlights[coord] = c_bg_red\n",
    "img = render_sudoku(gridstring, highlights)\n",
    "img.save(proj_path + 'figures/sample_puzzles/p1_feedback_absent.png')"
   ]
  },
  {
   "cell_type": "code",
   "execution_count": null,
   "metadata": {},
   "outputs": [],
   "source": [
    "# Distractor Feedback\n",
    "\n",
    "highlights = get_house_highlights(hidden_single['houseType'], goal)\n",
    "highlights = {k: c_bg_red for k in highlights}\n",
    "highlights[goal] = c_bg_green\n",
    "highlights[coords['emptySingle']] = c_bg_blue\n",
    "img = render_sudoku(gridstring, highlights)\n",
    "img.save(proj_path + 'figures/sample_puzzles/p1_feedback_distractor.png')"
   ]
  },
  {
   "cell_type": "code",
   "execution_count": null,
   "metadata": {},
   "outputs": [],
   "source": [
    "# Target feedback\n",
    "\n",
    "highlights = get_house_highlights(hidden_single['houseType'], goal)\n",
    "highlights[goal] = c_bg_green\n",
    "for coord in coords['occupied']:\n",
    "    highlights[coord] = c_bg_red\n",
    "for coord in coords['emptyBox']:\n",
    "    highlights[coord] = c_bg_purple\n",
    "highlights[coords['emptySingle']] = c_bg_orange\n",
    "highlights[coords['emptyDouble']] = c_bg_orange\n",
    "\n",
    "highlights[coords['targetBox']] = c_bg_purple\n",
    "highlights[coords['targetSingle']] = c_bg_orange\n",
    "highlights[coords['targetDouble']] = c_bg_orange\n",
    "\n",
    "img = render_sudoku(gridstring, highlights)\n",
    "img.save(proj_path + 'figures/sample_puzzles/p1_feedback_target.png')"
   ]
  },
  {
   "cell_type": "markdown",
   "metadata": {},
   "source": [
    "# Test Phase"
   ]
  },
  {
   "cell_type": "code",
   "execution_count": null,
   "metadata": {},
   "outputs": [],
   "source": [
    "# Test Phase\n",
    "\n",
    "for i in range(16):\n",
    "    hidden_single = experiment['phase2'][i]\n",
    "    condition = hidden_single['condition']\n",
    "    \n",
    "    title = []\n",
    "    if condition['houseType']:\n",
    "        title.append('ht')\n",
    "    if condition['houseIndex']:\n",
    "        title.append('hi')\n",
    "    if condition['cellIndex']:\n",
    "        title.append('ci')\n",
    "    if condition['digitSet']:\n",
    "        title.append('ds')\n",
    "    title = ''.join(title) if title else 'control'\n",
    "    \n",
    "    img = render_hidden_single(hidden_single)\n",
    "\n",
    "    img.save(proj_path + 'figures/sample_puzzles/p2_puzzle_{}.png'.format(title))"
   ]
  },
  {
   "cell_type": "markdown",
   "metadata": {},
   "source": [
    "# Questionnaire"
   ]
  },
  {
   "cell_type": "code",
   "execution_count": null,
   "metadata": {},
   "outputs": [],
   "source": [
    "for record in tqdm(subject_data[~subject_data.excluded].to_records()):\n",
    "    subject_id = record.subject_id\n",
    "    sid_hash = record.sid_hash\n",
    "    hidden_single = raw_data[sid_hash]['experimentDetails']['questionnaire']\n",
    "    img = render_hidden_single(hidden_single)\n",
    "    title = 'Questionnaire (Subject {})'.format(subject_id)\n",
    "    img = img_add_title(img, title)\n",
    "    img.save(proj_path + 'figures/questionnaire_puzzles/{}.png'.format(subject_id))"
   ]
  },
  {
   "cell_type": "code",
   "execution_count": null,
   "metadata": {},
   "outputs": [],
   "source": []
  }
 ],
 "metadata": {
  "kernelspec": {
   "display_name": "Python 3",
   "language": "python",
   "name": "python3"
  },
  "language_info": {
   "codemirror_mode": {
    "name": "ipython",
    "version": 3
   },
   "file_extension": ".py",
   "mimetype": "text/x-python",
   "name": "python",
   "nbconvert_exporter": "python",
   "pygments_lexer": "ipython3",
   "version": "3.7.6"
  }
 },
 "nbformat": 4,
 "nbformat_minor": 4
}
